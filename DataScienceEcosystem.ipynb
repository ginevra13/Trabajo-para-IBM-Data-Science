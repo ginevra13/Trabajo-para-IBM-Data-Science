{
 "cells": [
  {
   "cell_type": "markdown",
   "id": "e7a18dfc-0f22-442e-b278-af9dc6a4e043",
   "metadata": {},
   "source": [
    "# Data Science Tools and Ecosystem"
   ]
  },
  {
   "cell_type": "markdown",
   "id": "a2977cf5-4e3a-4fb8-8a2d-7b5816060509",
   "metadata": {},
   "source": [
    "#### In this notebook, Data Science Tools and Ecosystem are summarized."
   ]
  },
  {
   "cell_type": "markdown",
   "id": "c54adbb5-16c0-42b1-9586-03f867f50ac0",
   "metadata": {},
   "source": [
    "**Objectives:**"
   ]
  },
  {
   "cell_type": "markdown",
   "id": "a32a635e-078f-4c6d-b8c8-23c919e5e1ee",
   "metadata": {},
   "source": [
    "- List popular languages for Data Science\n",
    "- List popular libraries\n",
    "- Examples of arithmetic expressions in Python"
   ]
  },
  {
   "cell_type": "markdown",
   "id": "3371c132-e8a6-4e34-b814-0e91a6d8a860",
   "metadata": {},
   "source": [
    "Some of the popular languages that Data Scientists use are:"
   ]
  },
  {
   "cell_type": "markdown",
   "id": "c168d271-8a46-451c-85a2-b14532e5ec46",
   "metadata": {},
   "source": [
    "- Python\n",
    "- R\n",
    "- Julia\n",
    "- SQL"
   ]
  },
  {
   "cell_type": "markdown",
   "id": "1a3afe1f-8b0c-46cd-8120-5cf11c2ec21a",
   "metadata": {},
   "source": [
    "1. Python\n",
    "2. R\n",
    "3. Julia\n",
    "4. SQL"
   ]
  },
  {
   "cell_type": "markdown",
   "id": "29f01561-e7d0-4972-a579-64ad5da1a654",
   "metadata": {},
   "source": [
    "Some of the commonly used libraries used by Data Scientists include:"
   ]
  },
  {
   "cell_type": "markdown",
   "id": "8a5a9e47-ede7-4197-a501-50314930b9d4",
   "metadata": {},
   "source": [
    "1. NumPy \n",
    "2. Panda\n",
    "3. Matplotlib"
   ]
  },
  {
   "cell_type": "markdown",
   "id": "0a2606ac-f035-4a38-9c32-cadc100a6c3b",
   "metadata": {},
   "source": [
    "| Data Science Tools |\n",
    "|--------------------|\n",
    "| RStudio            |\n",
    "| TensorFlow         |\n",
    "| Apache Sparks      |"
   ]
  },
  {
   "cell_type": "markdown",
   "id": "766e0112-9e13-4ae1-be17-d6167b147c2e",
   "metadata": {},
   "source": [
    "### Below are a few examples of evaluating arithmetic expressions in Python"
   ]
  },
  {
   "cell_type": "markdown",
   "id": "273a1e02-0aa4-49a8-bdd5-c2f62392e790",
   "metadata": {},
   "source": [
    "$ 1+2 $"
   ]
  },
  {
   "cell_type": "markdown",
   "id": "a8809c63-c13f-43b4-9cf9-2ae33c5e981f",
   "metadata": {},
   "source": [
    "$ 2 x 3 $ "
   ]
  },
  {
   "cell_type": "code",
   "execution_count": 23,
   "id": "37ff21a0-9aff-44af-b9ed-01107c051c78",
   "metadata": {},
   "outputs": [
    {
     "data": {
      "text/plain": [
       "3"
      ]
     },
     "execution_count": 23,
     "metadata": {},
     "output_type": "execute_result"
    }
   ],
   "source": [
    "# Arithmetic operations\n",
    "code = compile(\"1 + 2\", \"<string>\", \"eval\")\n",
    "eval(code)\n",
    "# Result: 3"
   ]
  },
  {
   "cell_type": "markdown",
   "id": "68da45ab-eb52-48b9-a955-c6e44d8a9068",
   "metadata": {},
   "source": [
    "$ (3*4)+5 $"
   ]
  },
  {
   "cell_type": "markdown",
   "id": "0a478757-c265-4307-b533-115d5cc6ec3a",
   "metadata": {},
   "source": [
    "This a simple arithmetic expression to mutiply then add integers"
   ]
  },
  {
   "cell_type": "markdown",
   "id": "6092eb6a-0d38-4f99-94cd-0463908a2bb8",
   "metadata": {},
   "source": [
    "$ (3*4)+5 $"
   ]
  },
  {
   "cell_type": "code",
   "execution_count": 28,
   "id": "40a259d8-da83-4146-ac97-17cd6ce5aca1",
   "metadata": {},
   "outputs": [
    {
     "data": {
      "text/plain": [
       "17"
      ]
     },
     "execution_count": 28,
     "metadata": {},
     "output_type": "execute_result"
    }
   ],
   "source": [
    "(3*4)+5"
   ]
  },
  {
   "cell_type": "markdown",
   "id": "e1a06049-9c06-4714-8e46-97e109898ed0",
   "metadata": {},
   "source": [
    "This will convert 200 minutes to hours by diving by 60"
   ]
  },
  {
   "cell_type": "code",
   "execution_count": 39,
   "id": "b8a9217d-fd66-4d74-aa8c-eadf9f41c9bc",
   "metadata": {},
   "outputs": [
    {
     "data": {
      "text/plain": [
       "3.3333333333333335"
      ]
     },
     "execution_count": 39,
     "metadata": {},
     "output_type": "execute_result"
    }
   ],
   "source": [
    "200/60"
   ]
  },
  {
   "cell_type": "markdown",
   "id": "7d33195a-6275-4e99-bc24-426dfa012384",
   "metadata": {},
   "source": [
    "## Author"
   ]
  },
  {
   "cell_type": "markdown",
   "id": "96c16167-aa69-431f-bdcd-fa8a6a2e39b1",
   "metadata": {},
   "source": [
    "Maria Victoria Destefano"
   ]
  },
  {
   "cell_type": "code",
   "execution_count": null,
   "id": "f6baa594-2919-4ec2-9281-69ee36ac7caf",
   "metadata": {},
   "outputs": [],
   "source": []
  }
 ],
 "metadata": {
  "kernelspec": {
   "display_name": "Python 3 (ipykernel)",
   "language": "python",
   "name": "python3"
  },
  "language_info": {
   "codemirror_mode": {
    "name": "ipython",
    "version": 3
   },
   "file_extension": ".py",
   "mimetype": "text/x-python",
   "name": "python",
   "nbconvert_exporter": "python",
   "pygments_lexer": "ipython3",
   "version": "3.12.7"
  }
 },
 "nbformat": 4,
 "nbformat_minor": 5
}
